{
 "cells": [
  {
   "cell_type": "code",
   "execution_count": 1,
   "id": "2c95a8cd",
   "metadata": {},
   "outputs": [],
   "source": [
    "from Crypto.PublicKey import RSA\n",
    "from Crypto.Signature import pkcs1_15\n",
    "from Crypto.Hash import SHA1\n",
    "from Crypto.Cipher import AES, PKCS1_OAEP\n",
    "from Crypto.Util.Padding import pad, unpad\n",
    "from Crypto.Random import get_random_bytes"
   ]
  },
  {
   "cell_type": "code",
   "execution_count": null,
   "id": "dc5a604f",
   "metadata": {},
   "outputs": [],
   "source": [
    "class PGP:\n",
    "    def __init__(self):\n",
    "        self.sender_key = RSA.generate(1024)\n",
    "        self.receiver_key = RSA.generate(1024)\n",
    "    def authenticate(self, message):\n",
    "        h = SHA1.new(message.encode())\n",
    "        signature = pkcs1_15.new(self.sender_key).sign(h)\n",
    "        return {'message':message, \"signature\":signature}\n",
    "    def verify(self, signed_message):\n",
    "        h = SHA1.new(signed_message['message'].encode())\n",
    "        try:\n",
    "            pkcs1_15.new(self.sender_key.public_key()).verify(h, signed_message['signature'])\n",
    "            return True\n",
    "        except (ValueError, TypeError):\n",
    "            return False\n",
    "    def encrypt(self, message):\n",
    "        session_key = get_random_bytes(16)\n",
    "        cipher_aes = AES.new(session_key, AES.MODE_CBC)\n",
    "        ct = cipher_aes.encrypt(pad(message.encode(), AES.block_size))\n",
    "        cipher_rsa = PKCS1_OAEP.new(self.receiver_key.public_key())\n",
    "        enc_key = cipher_rsa.encrypt(session_key)\n",
    "        return {\"enc_key\":enc_key, 'iv':cipher_aes.iv, 'ct':ct}\n",
    "    def decrypt(self, package):\n",
    "        cipher_rsa = PKCS1_OAEP.new(self.receiver_key)\n",
    "        session_key = cipher_rsa.decrypt(package['enc_key'])\n",
    "        cipher_aes = AES.new(session_key, AES.MODE_CBC, package['iv'])\n",
    "        pt = unpad(cipher_aes.decrypt(package['ct']), AES.block_size)\n",
    "        return pt.decode()"
   ]
  },
  {
   "cell_type": "code",
   "execution_count": 3,
   "id": "14ca7b39",
   "metadata": {},
   "outputs": [
    {
     "name": "stdout",
     "output_type": "stream",
     "text": [
      "Testing Authentication\n",
      "Verified:  True\n"
     ]
    }
   ],
   "source": [
    "pgp = PGP()\n",
    "msg = \"Hello world\"\n",
    "print(\"Testing Authentication\")\n",
    "signed = pgp.authenticate(msg)\n",
    "print(\"Verified: \", pgp.verify(signed))"
   ]
  },
  {
   "cell_type": "code",
   "execution_count": null,
   "id": "0c91c1a8",
   "metadata": {},
   "outputs": [],
   "source": [
    "print(\"\\nTesting Confidentiality \")\n",
    "enc = pgp.encrypt_message(msg)\n",
    "dec = pgp.decrypt_message(enc)\n",
    "print(f\"Encrypted : {enc}\\n Decrypted : {dec}\")\n",
    "\n",
    "print(\"\\n complete pgp\")\n",
    "enc_pkg, sig = pgp.pgp_send(msg)\n",
    "final_msg, auth_ok = pgp.pgp_received(enc_pkg, sig)\n",
    "print(\"Decrypted : \", final_msg)\n",
    "print(\"Authentication verified : \", auth_ok)"
   ]
  },
  {
   "cell_type": "code",
   "execution_count": 8,
   "id": "769db5c5",
   "metadata": {},
   "outputs": [],
   "source": [
    "class PGP_Check:\n",
    "    def __init__(self):\n",
    "        self.sender_key = RSA.generate(1024)\n",
    "        self.receiver_key = RSA.generate(1024)\n",
    "    def authentication(self, message):\n",
    "        h = SHA1.new(message.encode())\n",
    "        signature = pkcs1_15.new(self.sender_key).sign(h)\n",
    "        return {'message': message, 'signature':signature}\n",
    "    def verify(self, signed_message):\n",
    "        h = SHA1.new(signed_message['message'].encode())\n",
    "        try:\n",
    "            pkcs1_15.new(self.sender_key.public_key()).verify(h,signed_message['signature'])\n",
    "            return True\n",
    "        except (ValueError, TypeError):\n",
    "            return False\n",
    "    def encrypt(self, message):\n",
    "        session_key = get_random_bytes(16)\n",
    "        cipher_aes = AES.new(session_key, AES.MODE_CBC)\n",
    "        ct = cipher_aes.encrypt(pad(message.encode(),AES.block_size))\n",
    "        cipher_rsa = PKCS1_OAEP.new(self.receiver_key.public_key())\n",
    "        enc_key = cipher_rsa.encrypt(session_key)\n",
    "        return {\"enc_key\":enc_key, 'iv':cipher_aes.iv, 'ct':ct}\n",
    "    def decrypt(self, package):\n",
    "        cipher_rsa = PKCS1_OAEP.new(self.receiver_key)\n",
    "        session_key = cipher_rsa.decrypt(package['enc_key'])\n",
    "        cipher_aes = AES.new(session_key, AES.MODE_CBC, package['iv'])\n",
    "        pt = unpad(cipher_aes.decrypt(package['ct']),AES.block_size)\n",
    "        return pt.decode()\n",
    "    def pgp_send(self, message):\n",
    "        signed = self.authentication(message)\n",
    "        full_message = f\"{message}|SIG\"\n",
    "        encrypted = self.encrypt(full_message)\n",
    "        return encrypted, signed['signature']\n",
    "    def pgp_received(self, encrypted, signature):\n",
    "        decrypted = self.decrypt(encrypted)\n",
    "        message = decrypted.split('|SIG')[0]\n",
    "        return message, self.verify({'message':message, 'signature':signature})"
   ]
  },
  {
   "cell_type": "code",
   "execution_count": 9,
   "id": "3a83d9e9",
   "metadata": {},
   "outputs": [],
   "source": [
    "pgp = PGP_Check()\n",
    "msg = \"This is a confidential message for PGP testing\""
   ]
  },
  {
   "cell_type": "code",
   "execution_count": 10,
   "id": "ad0f3981",
   "metadata": {},
   "outputs": [
    {
     "name": "stdout",
     "output_type": "stream",
     "text": [
      "\n",
      "🔹 Testing Authentication\n",
      "Verified: True\n"
     ]
    }
   ],
   "source": [
    "print(\"\\n🔹 Testing Authentication\")\n",
    "signed = pgp.authentication(msg)\n",
    "print(\"Verified:\", pgp.verify(signed))"
   ]
  },
  {
   "cell_type": "code",
   "execution_count": 11,
   "id": "267e6a0b",
   "metadata": {},
   "outputs": [
    {
     "name": "stdout",
     "output_type": "stream",
     "text": [
      "\n",
      "🔹 Testing Confidentiality\n",
      "Decrypted: This is a confidential message for PGP testing\n"
     ]
    }
   ],
   "source": [
    "print(\"\\n🔹 Testing Confidentiality\")\n",
    "enc = pgp.encrypt(msg)\n",
    "dec = pgp.decrypt(enc)\n",
    "print(\"Decrypted:\", dec)"
   ]
  },
  {
   "cell_type": "code",
   "execution_count": 12,
   "id": "a92eddbb",
   "metadata": {},
   "outputs": [
    {
     "name": "stdout",
     "output_type": "stream",
     "text": [
      "\n",
      "🔹 Testing Complete PGP\n",
      "Decrypted: This is a confidential message for PGP testing\n",
      "Authentication Verified: True\n"
     ]
    }
   ],
   "source": [
    "print(\"\\n🔹 Testing Complete PGP\")\n",
    "enc_pkg, sig = pgp.pgp_send(msg)\n",
    "final_msg, auth_ok = pgp.pgp_received(enc_pkg, sig)\n",
    "print(\"Decrypted:\", final_msg)\n",
    "print(\"Authentication Verified:\", auth_ok)\n"
   ]
  }
 ],
 "metadata": {
  "kernelspec": {
   "display_name": "my_venv",
   "language": "python",
   "name": "python3"
  },
  "language_info": {
   "codemirror_mode": {
    "name": "ipython",
    "version": 3
   },
   "file_extension": ".py",
   "mimetype": "text/x-python",
   "name": "python",
   "nbconvert_exporter": "python",
   "pygments_lexer": "ipython3",
   "version": "3.13.7"
  }
 },
 "nbformat": 4,
 "nbformat_minor": 5
}
