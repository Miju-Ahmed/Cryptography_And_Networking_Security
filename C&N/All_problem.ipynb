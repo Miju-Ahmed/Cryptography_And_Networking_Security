{
 "cells": [
  {
   "cell_type": "markdown",
   "id": "d854c4af",
   "metadata": {},
   "source": [
    "# Lab 1 : Caesar Cipher"
   ]
  },
  {
   "cell_type": "code",
   "execution_count": 29,
   "id": "6b5c914c",
   "metadata": {},
   "outputs": [
    {
     "name": "stdout",
     "output_type": "stream",
     "text": [
      "Plaintext : Miju Ahmed\n",
      "Cipher text : Rnoz Fmrji\n",
      "Decrypt : Miju Ahmed\n"
     ]
    }
   ],
   "source": [
    "def encrypt(pt, shift):\n",
    "    ct = \"\"\n",
    "    for char in pt:\n",
    "        if char.isalpha():\n",
    "            offset = 65 if char.isupper() else 97\n",
    "            en = chr((ord(char)-offset+shift)%26 + offset)\n",
    "            ct += en\n",
    "        else:\n",
    "            ct += char\n",
    "    return ct\n",
    "def decrypt(ct, shift):\n",
    "    return encrypt(ct, -shift)\n",
    "plaintext=\"Miju Ahmed\"\n",
    "ct = encrypt(plaintext, 5)\n",
    "dt = decrypt(ct, 5)\n",
    "print(f\"Plaintext : {plaintext}\")\n",
    "print(f\"Cipher text : {ct}\")\n",
    "print(f\"Decrypt : {dt}\")"
   ]
  },
  {
   "cell_type": "markdown",
   "id": "a18cdb94",
   "metadata": {},
   "source": [
    "# Lab 2: Polygram Substitution"
   ]
  },
  {
   "cell_type": "code",
   "execution_count": null,
   "id": "b7c87703",
   "metadata": {},
   "outputs": [
    {
     "name": "stdout",
     "output_type": "stream",
     "text": [
      "Cipher text : MYNAMEISMDMIJUAHMED$\n",
      "Encryption complete. Ciphertext saved to lab_2_output.txt\n",
      "Decrypted back to: MYNAMEISMDMIJUAHMED$\n"
     ]
    }
   ],
   "source": [
    "import itertools\n",
    "import random\n",
    "\n",
    "def generate_polygram():\n",
    "    letters=\"ABCDEFGHIJKLMNOPQRSTUVWXYZ\"\n",
    "    polygrams=[''.join(p) for p in itertools.product(letters,repeat=3)]\n",
    "    return polygrams\n",
    "polygram_list=generate_polygram()\n",
    "with open('lab_2_input.txt','w') as f:\n",
    "    for p in polygram_list:\n",
    "        f.write(p+\"\\n\")\n",
    "shuffled_polygrams=polygram_list.copy()\n",
    "random.shuffle(shuffled_polygrams)\n",
    "\n",
    "polygram_key=dict(zip(polygram_list,shuffled_polygrams))\n",
    "revese_polygram_key={v:k for k,v in polygram_key.items()}\n",
    "\n",
    "def polygram_encrypt(plaintext):\n",
    "    text=plaintext.upper().replace(\" \",\"\")\n",
    "    while len(text)%4!=0:\n",
    "        text+='$'\n",
    "    cipher=\"\"\n",
    "    for i in range(0,len(text),4):\n",
    "        block=text[i:i+4]\n",
    "        cipher+=polygram_key.get(block,block)\n",
    "        \n",
    "    return cipher\n",
    "def polygram_decrypt(ciphertext):\n",
    "    text=\"\"\n",
    "    for i in range(0,len(ciphertext),4):\n",
    "        block=ciphertext[i:i+4]\n",
    "        text+=revese_polygram_key.get(block,block)\n",
    "    return text\n",
    "if __name__==\"__main__\":\n",
    "    # plain_text=input(\"Enter the plaintext: \")\n",
    "    plain_text = \"MynameisMdMijuAhmed\"\n",
    "    cipher_text=polygram_encrypt(plain_text)\n",
    "    print(f\"Cipher text : {cipher_text}\")\n",
    "    with open('lab_2_output.txt' , 'w') as f:\n",
    "        f.write(cipher_text)\n",
    "    print(\"Encryption complete. Ciphertext saved to lab_2_output.txt\")\n",
    "    decrypted_text = polygram_decrypt(cipher_text)\n",
    "    print(\"Decrypted back to:\", decrypted_text)\n"
   ]
  },
  {
   "cell_type": "markdown",
   "id": "830a1158",
   "metadata": {},
   "source": [
    "# Lab 3 : Transposition Cipher"
   ]
  },
  {
   "cell_type": "code",
   "execution_count": 30,
   "id": "90e072be",
   "metadata": {},
   "outputs": [
    {
     "name": "stdout",
     "output_type": "stream",
     "text": [
      "Plaintext:           DEPARTMENT OF COMPUTER SCIENCE AND TECHNOLGY UNIVERSITY OF RAJSHAHI BANGLADESH\n",
      "Ciphertext:          DT OEI TOUR AHNEEMOMREAELNSOJIGSPEFP NNCGIIFS LHAN USCDHYVT HBARTCTCE N EYRAAD\n",
      "Decrypted Plaintext: DEPARTMENT OF COMPUTER SCIENCE AND TECHNOLGY UNIVERSITY OF RAJSHAHI BANGLADESH\n"
     ]
    }
   ],
   "source": [
    "def encrypt(pt, width):\n",
    "    length = len(pt)\n",
    "    ct = \"\"\n",
    "    for k in range(width):\n",
    "        for i in range(k,length,width):\n",
    "            ct += pt[i]\n",
    "    return ct\n",
    "def decrypt(ct, width):\n",
    "    length = len(ct)\n",
    "    pt = [' ']*length\n",
    "    idx = 0\n",
    "    for k in range(width):\n",
    "        for i in range(k,length, width):\n",
    "            pt[i] = ct[idx]\n",
    "            idx += 1\n",
    "    return ''.join(pt)\n",
    "plaintext = \"DEPARTMENT OF COMPUTER SCIENCE AND TECHNOLGY UNIVERSITY OF RAJSHAHI BANGLADESH\"\n",
    "ciphertext = encrypt(plaintext, width=5)\n",
    "decrypted_text = decrypt(ciphertext, width=5)\n",
    "print(f\"Plaintext:           {plaintext}\")\n",
    "print(f\"Ciphertext:          {ciphertext}\")\n",
    "print(f\"Decrypted Plaintext: {decrypted_text}\")"
   ]
  },
  {
   "cell_type": "markdown",
   "id": "b941d54b",
   "metadata": {},
   "source": [
    "# Lab 4: Double transposition"
   ]
  },
  {
   "cell_type": "code",
   "execution_count": 31,
   "id": "71d9a9aa",
   "metadata": {},
   "outputs": [
    {
     "name": "stdout",
     "output_type": "stream",
     "text": [
      "First Transposition:\n",
      "\n",
      "Second Transposition:\n",
      "\n",
      "Plaintext:           DEPARTMENT OF COMPUTER SCIENCE AND TECHNOLGY UNIVERSITY OF RAJSHAHI BANGLADESH\n",
      "Ciphertext1:          DT OEI TOUR AHNEEMOMREAELNSOJIGSPEFP NNCGIIFS LHAN USCDHYVT HBARTCTCE N EYRAAD\n",
      "Ciphertext2:          DIRERNGPG  HHCNAT  EESS ILUYBT A TAMAOPNIHSVACEDOOHOEJENFACTREYEUNMLIFCSND T R\n",
      "Decrypted Plaintext2: DT OEI TOUR AHNEEMOMREAELNSOJIGSPEFP NNCGIIFS LHAN USCDHYVT HBARTCTCE N EYRAAD\n",
      "Decrypted Plaintext1: DEPARTMENT OF COMPUTER SCIENCE AND TECHNOLGY UNIVERSITY OF RAJSHAHI BANGLADESH\n"
     ]
    }
   ],
   "source": [
    "def encrypt(pt, width):\n",
    "    length = len(pt)\n",
    "    ct = \"\"\n",
    "    for k in range(width):\n",
    "        for i in range(k, length, width):\n",
    "            ct += pt[i]\n",
    "    return ct\n",
    "def decrypt(ct, width):\n",
    "    length = len(ct)\n",
    "    pt = [' ']*length\n",
    "    idx = 0\n",
    "    for k in range(width):\n",
    "        for i in range(k, length, width):\n",
    "            pt[i] = ct[idx]\n",
    "            idx += 1\n",
    "    return ''.join(pt)\n",
    "\n",
    "plaintext = \"DEPARTMENT OF COMPUTER SCIENCE AND TECHNOLGY UNIVERSITY OF RAJSHAHI BANGLADESH\"\n",
    "print(\"First Transposition:\\n\")\n",
    "ciphertext1 = encrypt(plaintext, width=5)\n",
    "print(\"Second Transposition:\\n\")\n",
    "ciphertext2=encrypt(ciphertext1, width=5)\n",
    "\n",
    "decrypted_text2 = decrypt(ciphertext2, width=5)\n",
    "decrypted_text1=decrypt(decrypted_text2, width=5)\n",
    "print(f\"Plaintext:           {plaintext}\")\n",
    "print(f\"Ciphertext1:          {ciphertext1}\")\n",
    "print(f\"Ciphertext2:          {ciphertext2}\")\n",
    "print(f\"Decrypted Plaintext2: {decrypted_text2}\")\n",
    "print(f\"Decrypted Plaintext1: {decrypted_text1}\")\n"
   ]
  },
  {
   "cell_type": "markdown",
   "id": "d90c7745",
   "metadata": {},
   "source": [
    "# Lab 5 : One-Time-Pad"
   ]
  },
  {
   "cell_type": "code",
   "execution_count": 32,
   "id": "43c72101",
   "metadata": {},
   "outputs": [
    {
     "name": "stdout",
     "output_type": "stream",
     "text": [
      "Plaintext:           ONETIMEPAD\n",
      "Ciphertext:          IHYNCGYJUX, Key used: , Remaining key: TBFRGFARFMTBFRGFARFM\n",
      "Decrypted Plaintext: ONETIMEPAD, Key used: , Remaining key: TBFRGFARFMTBFRGFARFM\n"
     ]
    }
   ],
   "source": [
    "def encrypt(pt):\n",
    "    key = \"\"\n",
    "    with open(\"sender.txt\",\"r\") as file:\n",
    "        key = file.read().strip()\n",
    "    ct = \"\"\n",
    "    idx = 0\n",
    "    for ch in pt:\n",
    "        x = (ord(ch) + ord(key[idx]))%26\n",
    "        ct += chr(ord('A') + x + 1)\n",
    "    remaining_key = key[idx:]\n",
    "    key_used = key[:idx]\n",
    "    with open(\"sender.txt\", 'w') as file:\n",
    "        file.write(remaining_key)\n",
    "    return ct, key_used, remaining_key\n",
    "def decrypt(ct):\n",
    "    key = \"\"\n",
    "    with open(\"received.txt\", 'r') as file:\n",
    "        key = file.read().strip()\n",
    "    idx = 0\n",
    "    pt=\"\"\n",
    "    for ch in ct:\n",
    "        x = (ord(ch) - ord(key[idx]))%26\n",
    "        pt += chr(ord('A') +x-1)\n",
    "    remaining_key = key[idx:]\n",
    "    key_used = key[:idx]\n",
    "    with open(\"received.txt\", 'w') as file:\n",
    "        file.write(remaining_key)\n",
    "    return pt, key_used, remaining_key\n",
    "plaintext = \"ONETIMEPAD\"\n",
    "ciphertext, key_used, remaining_key = encrypt(plaintext)\n",
    "decrypted_text, key_used, remaining_key = decrypt(ciphertext)\n",
    "print(f\"Plaintext:           {plaintext}\")\n",
    "print(f\"Ciphertext:          {ciphertext}, Key used: {key_used}, Remaining key: {remaining_key}\")\n",
    "print(f\"Decrypted Plaintext: {decrypted_text}, Key used: {key_used}, Remaining key: {remaining_key}\")\n"
   ]
  },
  {
   "cell_type": "markdown",
   "id": "89485380",
   "metadata": {},
   "source": [
    "# Lab 6: Lehhman prime check"
   ]
  },
  {
   "cell_type": "code",
   "execution_count": 33,
   "id": "571bc52d",
   "metadata": {},
   "outputs": [
    {
     "name": "stdout",
     "output_type": "stream",
     "text": [
      "503 is probably prime\n"
     ]
    }
   ],
   "source": [
    "import random\n",
    "def lehhman_prime_check(p, t):\n",
    "    if p<2:\n",
    "        return False\n",
    "    if p<=3:\n",
    "        return True\n",
    "    for _ in range(t):\n",
    "        a = random.randint(2,p-1)\n",
    "        k = pow(a,(p-1)//2, p)\n",
    "        if k!=1 and k!=p-1:\n",
    "            return False\n",
    "    return True\n",
    "n,t=503,10\n",
    "check = lehhman_prime_check(n,t)\n",
    "if check:\n",
    "    print(f\"{n} is probably prime\")\n",
    "else:\n",
    "    print(f\"{n} is composite\")\n",
    "        \n"
   ]
  },
  {
   "cell_type": "markdown",
   "id": "83b4907a",
   "metadata": {},
   "source": [
    "# Lab 7 : Robin Miller"
   ]
  },
  {
   "cell_type": "code",
   "execution_count": 34,
   "id": "fd09b7e3",
   "metadata": {},
   "outputs": [
    {
     "name": "stdout",
     "output_type": "stream",
     "text": [
      "155589 is not prime\n"
     ]
    }
   ],
   "source": [
    "import random\n",
    "def robin_miller_prime_check(p,k):\n",
    "    if p<2:\n",
    "        return False\n",
    "    if p<=3:\n",
    "        return True\n",
    "    if p%2==0:\n",
    "        return False\n",
    "    m = p-1\n",
    "    b=0\n",
    "    while m%2==0:\n",
    "        m//=2\n",
    "        b += 1\n",
    "    for _ in range(t):\n",
    "        a = random.randint(2,p-1)\n",
    "        z = pow(a,m,p)\n",
    "        if z==1 or z==p-1:\n",
    "            continue\n",
    "        for _ in range(b-1):\n",
    "            z = pow(z,2,p)\n",
    "            if z==p-1:\n",
    "                break\n",
    "            else:\n",
    "                return False\n",
    "    return True\n",
    "\n",
    "p=155589\n",
    "k=10\n",
    "\n",
    "if robin_miller_prime_check(p,k):\n",
    "    print(f\"{p} probably prime\")\n",
    "else:\n",
    "    print(f\"{p} is not prime\")\n"
   ]
  },
  {
   "cell_type": "markdown",
   "id": "f9aa7eba",
   "metadata": {},
   "source": [
    "# Lab 8: MD5"
   ]
  },
  {
   "cell_type": "code",
   "execution_count": 35,
   "id": "a2fd6c85",
   "metadata": {},
   "outputs": [
    {
     "name": "stdout",
     "output_type": "stream",
     "text": [
      "Plain text : Miju Chowdhury\n",
      "Hash Value : ff0994529f1e3ec91e689539c85131d4\n"
     ]
    }
   ],
   "source": [
    "import hashlib\n",
    "def generate_md5_hash(pt):\n",
    "    md_hash = hashlib.md5()\n",
    "    md_hash.update(pt.encode('utf-8'))\n",
    "    return md_hash.hexdigest()\n",
    "pt = \"Miju Chowdhury\"\n",
    "hash_value = generate_md5_hash(pt)\n",
    "print(f\"Plain text : {pt}\")\n",
    "print(f\"Hash Value : {hash_value}\")"
   ]
  },
  {
   "cell_type": "markdown",
   "id": "ed8f809c",
   "metadata": {},
   "source": [
    "# Lab 9: SHA"
   ]
  },
  {
   "cell_type": "code",
   "execution_count": 36,
   "id": "db5e62b3",
   "metadata": {},
   "outputs": [
    {
     "name": "stdout",
     "output_type": "stream",
     "text": [
      "Plaintext: Miju Chowdhury\n",
      "Algorithm: sha1\n",
      "Hashed Output using SHA1: dcf1546195827f1cfbac6fe419e92be497df9cb9\n"
     ]
    }
   ],
   "source": [
    "import hashlib\n",
    "def hash_message(message, algorithm='sha256'):\n",
    "    message_bytes = message.encode('utf-8')\n",
    "    if algorithm == 'sha1':\n",
    "        hash_obj = hashlib.sha1(message_bytes)\n",
    "    elif algorithm == 'sha224':\n",
    "        hash_obj = hashlib.sha224(message_bytes)\n",
    "    elif algorithm == 'sha256':\n",
    "        hash_obj = hashlib.sha256(message_bytes)\n",
    "    elif algorithm == 'sha384':\n",
    "        hash_obj = hashlib.sha384(message_bytes)\n",
    "    elif algorithm == 'sha512':\n",
    "        hash_obj = hashlib.sha512(message_bytes)\n",
    "    else:\n",
    "        print(\"Invalid algorithm\")\n",
    "    return hash_obj.hexdigest()\n",
    "    \n",
    "message = \"Miju Chowdhury\"\n",
    "algorithm = \"sha1\"\n",
    "hashed_output = hash_message(message, algorithm)\n",
    "print(f\"Plaintext: {message}\")\n",
    "print(f\"Algorithm: {algorithm}\")\n",
    "print(f\"Hashed Output using {algorithm.upper()}: {hashed_output}\")\n"
   ]
  },
  {
   "cell_type": "markdown",
   "id": "ae9ea672",
   "metadata": {},
   "source": [
    "# Lab 10: RSA"
   ]
  },
  {
   "cell_type": "code",
   "execution_count": 37,
   "id": "f56d0fe0",
   "metadata": {},
   "outputs": [
    {
     "name": "stdout",
     "output_type": "stream",
     "text": [
      "6880023\n",
      "[688, 2, 3]\n",
      "[1570, 3139, 158]\n",
      "157031390158\n",
      "[1570, 3139, 158]\n",
      "6880023\n"
     ]
    }
   ],
   "source": [
    "e=79\n",
    "d=1019\n",
    "M=6880023\n",
    "n=3337\n",
    "\n",
    "M_str = str(M)\n",
    "print(M_str)\n",
    "\n",
    "msg_block = []\n",
    "for i in range(0,len(M_str), 3):\n",
    "    block = M_str[i:i+3]\n",
    "    msg_block.append(int(block))\n",
    "print(msg_block)\n",
    "\n",
    "cipher_block = []\n",
    "for m in msg_block:\n",
    "    c = pow(m,e,n)\n",
    "    cipher_block.append(c)\n",
    "print(cipher_block)\n",
    "\n",
    "cipher_text=\"\"\n",
    "for c in cipher_block:\n",
    "    cstr = str(c).zfill(4)\n",
    "    cipher_text+=cstr\n",
    "print(cipher_text)\n",
    "\n",
    "cipher_block = []\n",
    "for i in range(0,len(cipher_text),4):\n",
    "    mstr = cipher_text[i:i+4]\n",
    "    cipher_block.append(int(mstr))\n",
    "print(cipher_block)\n",
    "\n",
    "decrypted_text = \"\"\n",
    "for i,c in enumerate(cipher_block):\n",
    "    m = pow(c,d,n)\n",
    "    if i<len(cipher_block)-1:\n",
    "        mstr = str(m).zfill(3)\n",
    "    else:\n",
    "        remaining_length = len(M_str)-len(decrypted_text)\n",
    "        mstr = str(m).zfill(remaining_length)\n",
    "    decrypted_text += mstr\n",
    "decrypted_text = decrypted_text[-len(M_str):]\n",
    "print(decrypted_text)"
   ]
  },
  {
   "cell_type": "markdown",
   "id": "ccc9471a",
   "metadata": {},
   "source": [
    "# Lab 11: Diffie-Hellman key generator"
   ]
  },
  {
   "cell_type": "code",
   "execution_count": 38,
   "id": "c2149d0f",
   "metadata": {},
   "outputs": [
    {
     "name": "stdout",
     "output_type": "stream",
     "text": [
      "A : 1\n",
      "B : 1\n"
     ]
    }
   ],
   "source": [
    "import random\n",
    "def diffie_hellman_key(p):\n",
    "    a = 7\n",
    "    xa = random.randint(2,p-1)\n",
    "    ya = pow(a,xa,p)\n",
    "\n",
    "    xb = random.randint(2,p-1)\n",
    "    yb = pow(a,xb,p)\n",
    "\n",
    "    ka = pow(yb,xa,p)\n",
    "    kb = pow(ya,xb,p)\n",
    "    return ka, kb\n",
    "p = 152\n",
    "ka,kb = diffie_hellman_key(p)\n",
    "print(f\"A : {ka}\\nB : {kb}\")"
   ]
  },
  {
   "cell_type": "markdown",
   "id": "ed1be5cd",
   "metadata": {},
   "source": [
    "# Lab 12 : PGP"
   ]
  },
  {
   "cell_type": "code",
   "execution_count": 55,
   "id": "efdb9f65",
   "metadata": {},
   "outputs": [
    {
     "name": "stdout",
     "output_type": "stream",
     "text": [
      "✅ Simple PGP System initialized\n",
      "\n",
      "🔹 Testing Authentication\n",
      "Verified: True\n",
      "\n",
      "🔹 Testing Confidentiality\n",
      "Decrypted: This is a confidential message for PGP testing\n",
      "\n",
      "🔹 Testing Complete PGP\n",
      "Decrypted: This is a confidential message for PGP testing\n",
      "Authentication Verified: True\n"
     ]
    }
   ],
   "source": [
    "from Crypto.PublicKey import RSA\n",
    "from Crypto.Signature import pkcs1_15\n",
    "from Crypto.Hash import SHA1\n",
    "from Crypto.Cipher import AES, PKCS1_OAEP\n",
    "from Crypto.Util.Padding import pad, unpad\n",
    "from Crypto.Random import get_random_bytes\n",
    "\n",
    "class SimplePGP:\n",
    "    def __init__(self):\n",
    "        self.sender_key = RSA.generate(1024)\n",
    "        self.receiver_key = RSA.generate(1024)\n",
    "        print(\"✅ Simple PGP System initialized\")\n",
    "\n",
    "    # ---------------- Authentication ----------------\n",
    "    def authenticate(self, message):\n",
    "        h = SHA1.new(message.encode())\n",
    "        signature = pkcs1_15.new(self.sender_key).sign(h)\n",
    "        return {'message': message, 'signature': signature}\n",
    "\n",
    "    def verify(self, signed_msg):\n",
    "        h = SHA1.new(signed_msg['message'].encode())\n",
    "        try:\n",
    "            pkcs1_15.new(self.sender_key.publickey()).verify(h, signed_msg['signature'])\n",
    "            return True\n",
    "        except (ValueError, TypeError):\n",
    "            return False\n",
    "\n",
    "    # ---------------- Confidentiality ----------------\n",
    "    def encrypt_message(self, message):\n",
    "        session_key = get_random_bytes(16)\n",
    "        cipher_aes = AES.new(session_key, AES.MODE_CBC)\n",
    "        ct = cipher_aes.encrypt(pad(message.encode(), AES.block_size))\n",
    "        cipher_rsa = PKCS1_OAEP.new(self.receiver_key.publickey())\n",
    "        enc_key = cipher_rsa.encrypt(session_key)\n",
    "        return {'enc_key': enc_key, 'iv': cipher_aes.iv, 'ct': ct}\n",
    "\n",
    "    def decrypt_message(self, package):\n",
    "        cipher_rsa = PKCS1_OAEP.new(self.receiver_key)\n",
    "        session_key = cipher_rsa.decrypt(package['enc_key'])\n",
    "        cipher_aes = AES.new(session_key, AES.MODE_CBC, package['iv'])\n",
    "        pt = unpad(cipher_aes.decrypt(package['ct']), AES.block_size)\n",
    "        return pt.decode()\n",
    "\n",
    "    # ---------------- Complete PGP ----------------\n",
    "    def pgp_send(self, message):\n",
    "        signed = self.authenticate(message)\n",
    "        full_message = f\"{message}|SIGNED\"\n",
    "        encrypted = self.encrypt_message(full_message)\n",
    "        return encrypted, signed['signature']\n",
    "\n",
    "    def pgp_receive(self, encrypted, signature):\n",
    "        decrypted = self.decrypt_message(encrypted)\n",
    "        message = decrypted.split('|SIGNED')[0]\n",
    "        return message, self.verify({'message': message, 'signature': signature})\n",
    "\n",
    "\n",
    "# ---------------- TESTING ----------------\n",
    "pgp = SimplePGP()\n",
    "msg = \"This is a confidential message for PGP testing\"\n",
    "\n",
    "print(\"\\n🔹 Testing Authentication\")\n",
    "signed = pgp.authenticate(msg)\n",
    "print(\"Verified:\", pgp.verify(signed))\n",
    "\n",
    "print(\"\\n🔹 Testing Confidentiality\")\n",
    "enc = pgp.encrypt_message(msg)\n",
    "dec = pgp.decrypt_message(enc)\n",
    "print(\"Decrypted:\", dec)\n",
    "\n",
    "print(\"\\n🔹 Testing Complete PGP\")\n",
    "enc_pkg, sig = pgp.pgp_send(msg)\n",
    "final_msg, auth_ok = pgp.pgp_receive(enc_pkg, sig)\n",
    "print(\"Decrypted:\", final_msg)\n",
    "print(\"Authentication Verified:\", auth_ok)\n"
   ]
  },
  {
   "cell_type": "markdown",
   "id": "2b0bc9ca",
   "metadata": {},
   "source": [
    "# Sajjad"
   ]
  },
  {
   "cell_type": "code",
   "execution_count": 39,
   "id": "1da44424",
   "metadata": {},
   "outputs": [],
   "source": [
    "import hashlib\n",
    "import os\n",
    "from Crypto.PublicKey import RSA\n",
    "from Crypto.Signature import pkcs1_15\n",
    "from Crypto.Hash import SHA1\n",
    "from Crypto.Cipher import AES, PKCS1_OAEP\n",
    "from Crypto.Random import get_random_bytes\n",
    "from Crypto.Util.Padding import pad, unpad"
   ]
  },
  {
   "cell_type": "code",
   "execution_count": 44,
   "id": "953e7ded",
   "metadata": {},
   "outputs": [
    {
     "name": "stdout",
     "output_type": "stream",
     "text": [
      "PGP System Initialized with Built-in RSA\n",
      "Sender Key Size: 1024 bits\n",
      "Receiver Key Size: 1024 bits\n"
     ]
    }
   ],
   "source": [
    "class PGPSystem:\n",
    "    def __init__(self):\n",
    "        # Generate RSA key pairs using built-in functions\n",
    "        self.sender_key = RSA.generate(1024)\n",
    "        self.receiver_key = RSA.generate(1024)\n",
    "        \n",
    "        print(\"PGP System Initialized with Built-in RSA\")\n",
    "        print(f\"Sender Key Size: {self.sender_key.size_in_bits()} bits\")\n",
    "        print(f\"Receiver Key Size: {self.receiver_key.size_in_bits()} bits\")\n",
    "    \n",
    "    def pgp_authentication(self, message):\n",
    "        print(\"\\n=== PGP AUTHENTICATION SERVICE ===\")\n",
    "        print(f\"1. Sender creates message: '{message}'\")\n",
    "        \n",
    "        # Step 2: Generate SHA-1 hash (160-bit)\n",
    "        message_bytes = message.encode('utf-8')\n",
    "        hash_obj = SHA1.new(message_bytes)\n",
    "        print(f\"2. SHA-1 generates 160-bit hash: {hash_obj.hexdigest()[:32]}...\")\n",
    "        \n",
    "        # Step 3: Encrypt hash with sender's private key (Digital Signature)\n",
    "        signature = pkcs1_15.new(self.sender_key).sign(hash_obj)\n",
    "        print(f\"3. Hash encrypted with sender's private key (signature created)\")\n",
    "        \n",
    "        # Prepend signature to message\n",
    "        signed_message = {\n",
    "            'message': message,\n",
    "            'signature': signature,\n",
    "            'hash': hash_obj.digest()\n",
    "        }\n",
    "        print(f\"4. Signature prepended to message\")\n",
    "        \n",
    "        return signed_message\n",
    "    \n",
    "    def pgp_authentication_verify(self, signed_message):\n",
    "        print(\"\\n=== PGP AUTHENTICATION VERIFICATION ===\")\n",
    "        \n",
    "        message = signed_message['message']\n",
    "        signature = signed_message['signature']\n",
    "        \n",
    "        print(f\"1. Receiver got message: '{message}'\")\n",
    "        \n",
    "        # Step 4: Decrypt signature using sender's public key\n",
    "        try:\n",
    "            # Generate new hash of received message\n",
    "            new_hash = SHA1.new(message.encode('utf-8'))\n",
    "            print(f\"2. Generated new hash: {new_hash.hexdigest()[:32]}...\")\n",
    "            \n",
    "            # Verify signature using sender's public key\n",
    "            pkcs1_15.new(self.sender_key.publickey()).verify(new_hash, signature)\n",
    "            print(f\"3. Signature decrypted with sender's public key\")\n",
    "            print(f\"4. Hash comparison: MATCH - Message is AUTHENTIC\")\n",
    "            return True\n",
    "            \n",
    "        except (ValueError, TypeError):\n",
    "            print(f\"4. Hash comparison: MISMATCH - Message is NOT AUTHENTIC\")\n",
    "            return False\n",
    "        \n",
    "    def pgp_confidentiality(self, message):\n",
    "        print(\"\\n=== PGP CONFIDENTIALITY SERVICE ===\")\n",
    "        print(f\"1. Sender generates message: '{message}'\")\n",
    "        \n",
    "        # Step 2: Generate random 128-bit session key\n",
    "        session_key = get_random_bytes(16)  # 128 bits = 16 bytes\n",
    "        print(f\"2. Random 128-bit session key generated\")\n",
    "        \n",
    "        # Step 3: Encrypt message using AES with session key\n",
    "        cipher_aes = AES.new(session_key, AES.MODE_CBC)\n",
    "        iv = cipher_aes.iv\n",
    "        padded_message = pad(message.encode('utf-8'), AES.block_size)\n",
    "        encrypted_message = cipher_aes.encrypt(padded_message)\n",
    "        print(f\"3. Message encrypted using AES with session key\")\n",
    "        \n",
    "        # Step 4: Encrypt session key with RSA using recipient's public key\n",
    "        cipher_rsa = PKCS1_OAEP.new(self.receiver_key.publickey())\n",
    "        encrypted_session_key = cipher_rsa.encrypt(session_key)\n",
    "        print(f\"4. Session key encrypted with RSA using recipient's public key\")\n",
    "        print(f\"5. Encrypted session key prepended to message\")\n",
    "        \n",
    "        # Create encrypted package\n",
    "        encrypted_package = {\n",
    "            'encrypted_session_key': encrypted_session_key,\n",
    "            'iv': iv,\n",
    "            'encrypted_message': encrypted_message\n",
    "        }\n",
    "        \n",
    "        return encrypted_package\n",
    "    \n",
    "     \n",
    "    def pgp_confidentiality_decrypt(self, encrypted_package):\n",
    "        print(\"\\n=== PGP CONFIDENTIALITY DECRYPTION ===\")\n",
    "        \n",
    "        # Step 5: Decrypt session key using receiver's private key\n",
    "        cipher_rsa = PKCS1_OAEP.new(self.receiver_key)\n",
    "        session_key = cipher_rsa.decrypt(encrypted_package['encrypted_session_key'])\n",
    "        print(f\"1. Session key decrypted using receiver's private key\")\n",
    "        \n",
    "        # Step 6: Decrypt message using session key\n",
    "        cipher_aes = AES.new(session_key, AES.MODE_CBC, encrypted_package['iv'])\n",
    "        decrypted_padded = cipher_aes.decrypt(encrypted_package['encrypted_message'])\n",
    "        decrypted_message = unpad(decrypted_padded, AES.block_size).decode('utf-8')\n",
    "        print(f\"2. Message decrypted using session key\")\n",
    "        print(f\"3. Decrypted message: '{decrypted_message}'\")\n",
    "        \n",
    "        return decrypted_message\n",
    "    \n",
    "    def pgp_complete_service(self, message):\n",
    "        print(\"\\n\" + \"=\"*60)\n",
    "        print(\"COMPLETE PGP SERVICE - AUTHENTICATION + CONFIDENTIALITY\")\n",
    "        print(\"=\"*60)\n",
    "        \n",
    "        # First apply authentication (digital signature)\n",
    "        signed_message = self.pgp_authentication(message)\n",
    "        \n",
    "        # Then apply confidentiality to the signed message\n",
    "        message_with_signature = f\"{signed_message['message']}|SIG|{len(signed_message['signature'])}\"\n",
    "        encrypted_package = self.pgp_confidentiality(message_with_signature)\n",
    "        \n",
    "        # Combine both\n",
    "        complete_package = {\n",
    "            'encrypted_package': encrypted_package,\n",
    "            'signature': signed_message['signature']\n",
    "        }\n",
    "        \n",
    "        return complete_package, signed_message\n",
    "    \n",
    "\n",
    "    def pgp_complete_decrypt(self, complete_package, original_signed):\n",
    "        print(\"\\n\" + \"=\"*60)\n",
    "        print(\"COMPLETE PGP DECRYPTION + VERIFICATION\")\n",
    "        print(\"=\"*60)\n",
    "        \n",
    "        # First decrypt the message\n",
    "        decrypted_message = self.pgp_confidentiality_decrypt(complete_package['encrypted_package'])\n",
    "        \n",
    "        # Extract original message\n",
    "        parts = decrypted_message.split('|SIG|')\n",
    "        original_message = parts[0]\n",
    "        \n",
    "        # Verify authentication using the signature\n",
    "        signed_msg = {'message': original_message, 'signature': complete_package['signature']}\n",
    "        is_authentic = self.pgp_authentication_verify(signed_msg)\n",
    "        \n",
    "        return original_message, is_authentic\n",
    "\n",
    "# Initialize PGP System\n",
    "pgp = PGPSystem()"
   ]
  },
  {
   "cell_type": "code",
   "execution_count": 45,
   "id": "e7a1ad52",
   "metadata": {},
   "outputs": [
    {
     "name": "stdout",
     "output_type": "stream",
     "text": [
      "Testing pgp service with rsa and aes\n",
      "\n",
      "Test autehtication service\n",
      "\n",
      "=== PGP AUTHENTICATION SERVICE ===\n",
      "1. Sender creates message: 'This is a confidential message for pgp testing'\n",
      "2. SHA-1 generates 160-bit hash: bbdd96e5826ee325109332fe1e2f8407...\n",
      "3. Hash encrypted with sender's private key (signature created)\n",
      "4. Signature prepended to message\n",
      "\n",
      "=== PGP AUTHENTICATION VERIFICATION ===\n",
      "1. Receiver got message: 'This is a confidential message for pgp testing'\n",
      "2. Generated new hash: bbdd96e5826ee325109332fe1e2f8407...\n",
      "3. Signature decrypted with sender's public key\n",
      "4. Hash comparison: MATCH - Message is AUTHENTIC\n"
     ]
    }
   ],
   "source": [
    "message = \"This is a confidential message for pgp testing\"\n",
    "print(\"Testing pgp service with rsa and aes\")\n",
    "\n",
    "# test 1\n",
    "print(\"\\nTest autehtication service\")\n",
    "signed_msg = pgp.pgp_authentication(message)\n",
    "auth_result = pgp.pgp_authentication_verify(signed_msg)"
   ]
  },
  {
   "cell_type": "code",
   "execution_count": 46,
   "id": "f8754130",
   "metadata": {},
   "outputs": [
    {
     "name": "stdout",
     "output_type": "stream",
     "text": [
      "testing confidentiality service\n",
      "\n",
      "=== PGP CONFIDENTIALITY SERVICE ===\n",
      "1. Sender generates message: 'This is a confidential message for pgp testing'\n",
      "2. Random 128-bit session key generated\n",
      "3. Message encrypted using AES with session key\n",
      "4. Session key encrypted with RSA using recipient's public key\n",
      "5. Encrypted session key prepended to message\n",
      "\n",
      "=== PGP CONFIDENTIALITY DECRYPTION ===\n",
      "1. Session key decrypted using receiver's private key\n",
      "2. Message decrypted using session key\n",
      "3. Decrypted message: 'This is a confidential message for pgp testing'\n"
     ]
    }
   ],
   "source": [
    "# test 2\n",
    "print(\"testing confidentiality service\")\n",
    "encrypted_pkg = pgp.pgp_confidentiality(message)\n",
    "decrypted_msg = pgp.pgp_confidentiality_decrypt(encrypted_pkg)"
   ]
  },
  {
   "cell_type": "code",
   "execution_count": 47,
   "id": "60b9fd13",
   "metadata": {},
   "outputs": [
    {
     "name": "stdout",
     "output_type": "stream",
     "text": [
      "\n",
      ">>> TESTING COMPLETE PGP SERVICE <<<\n",
      "\n",
      "============================================================\n",
      "COMPLETE PGP SERVICE - AUTHENTICATION + CONFIDENTIALITY\n",
      "============================================================\n",
      "\n",
      "=== PGP AUTHENTICATION SERVICE ===\n",
      "1. Sender creates message: 'This is a confidential message for pgp testing'\n",
      "2. SHA-1 generates 160-bit hash: bbdd96e5826ee325109332fe1e2f8407...\n",
      "3. Hash encrypted with sender's private key (signature created)\n",
      "4. Signature prepended to message\n",
      "\n",
      "=== PGP CONFIDENTIALITY SERVICE ===\n",
      "1. Sender generates message: 'This is a confidential message for pgp testing|SIG|128'\n",
      "2. Random 128-bit session key generated\n",
      "3. Message encrypted using AES with session key\n",
      "4. Session key encrypted with RSA using recipient's public key\n",
      "5. Encrypted session key prepended to message\n",
      "\n",
      "============================================================\n",
      "COMPLETE PGP DECRYPTION + VERIFICATION\n",
      "============================================================\n",
      "\n",
      "=== PGP CONFIDENTIALITY DECRYPTION ===\n",
      "1. Session key decrypted using receiver's private key\n",
      "2. Message decrypted using session key\n",
      "3. Decrypted message: 'This is a confidential message for pgp testing|SIG|128'\n",
      "\n",
      "=== PGP AUTHENTICATION VERIFICATION ===\n",
      "1. Receiver got message: 'This is a confidential message for pgp testing'\n",
      "2. Generated new hash: bbdd96e5826ee325109332fe1e2f8407...\n",
      "3. Signature decrypted with sender's public key\n",
      "4. Hash comparison: MATCH - Message is AUTHENTIC\n"
     ]
    }
   ],
   "source": [
    "# Test 3: Complete PGP Service (Authentication + Confidentiality)\n",
    "print(\"\\n>>> TESTING COMPLETE PGP SERVICE <<<\")\n",
    "complete_pkg, signed_original = pgp.pgp_complete_service(message)\n",
    "final_msg, final_auth = pgp.pgp_complete_decrypt(complete_pkg, signed_original)"
   ]
  },
  {
   "cell_type": "code",
   "execution_count": 48,
   "id": "cac45012",
   "metadata": {},
   "outputs": [
    {
     "name": "stdout",
     "output_type": "stream",
     "text": [
      "\n",
      "======================================================================\n",
      "FINAL RESULTS\n",
      "======================================================================\n",
      "Original Message: 'This is a confidential message for pgp testing'\n",
      "Authentication Test: PASSED\n",
      "Confidentiality Test: PASSED\n",
      "Complete Service: PASSED\n",
      "Final Decrypted: 'This is a confidential message for pgp testing'\n",
      "Final Authentication: VERIFIED\n"
     ]
    }
   ],
   "source": [
    "print(\"\\n\" + \"=\"*70)\n",
    "print(\"FINAL RESULTS\")\n",
    "print(\"=\"*70)\n",
    "print(f\"Original Message: '{message}'\")\n",
    "print(f\"Authentication Test: {'PASSED' if auth_result else 'FAILED'}\")\n",
    "print(f\"Confidentiality Test: {'PASSED' if decrypted_msg == message else 'FAILED'}\")\n",
    "print(f\"Complete Service: {'PASSED' if final_msg == message and final_auth else 'FAILED'}\")\n",
    "print(f\"Final Decrypted: '{final_msg}'\")\n",
    "print(f\"Final Authentication: {'VERIFIED' if final_auth else 'FAILED'}\")"
   ]
  }
 ],
 "metadata": {
  "kernelspec": {
   "display_name": "my_venv",
   "language": "python",
   "name": "python3"
  },
  "language_info": {
   "codemirror_mode": {
    "name": "ipython",
    "version": 3
   },
   "file_extension": ".py",
   "mimetype": "text/x-python",
   "name": "python",
   "nbconvert_exporter": "python",
   "pygments_lexer": "ipython3",
   "version": "3.13.7"
  }
 },
 "nbformat": 4,
 "nbformat_minor": 5
}
